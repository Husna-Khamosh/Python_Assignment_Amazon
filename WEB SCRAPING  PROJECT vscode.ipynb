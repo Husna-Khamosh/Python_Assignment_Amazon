{
 "cells": [
  {
   "cell_type": "markdown",
   "id": "9bd3068b",
   "metadata": {},
   "source": [
    "# web scraping amazon "
   ]
  },
  {
   "cell_type": "code",
   "execution_count": null,
   "id": "2bdf62e0",
   "metadata": {},
   "outputs": [],
   "source": [
    "#scraping amazon website using BeautifulSoup\n",
    "import requests \n",
    "from bs4 import BeautifulSoup\n",
    "import pandas as pd\n",
    "import matplotlib.pyplot as plt"
   ]
  },
  {
   "cell_type": "code",
   "execution_count": null,
   "id": "d8eb40ec",
   "metadata": {},
   "outputs": [],
   "source": [
    "#send an HTTP GET request from the website \n",
    "sp = requests.get(\"https://www.amazon.com/electronic\")\n",
    "\n",
    "sp = BeautifulSoup (sp.content, 'html.parser') #parse HTML content of the page using BeautifulSoup"
   ]
  },
  {
   "cell_type": "code",
   "execution_count": null,
   "id": "170f3de6",
   "metadata": {},
   "outputs": [],
   "source": [
    "df = pd.read_csv(\"electronics_data.csv\")"
   ]
  },
  {
   "cell_type": "code",
   "execution_count": null,
   "id": "21f27faf",
   "metadata": {},
   "outputs": [],
   "source": [
    "top_brands = df['brand'].value_counts().head(10)"
   ]
  },
  {
   "cell_type": "code",
   "execution_count": null,
   "id": "f4a8070e",
   "metadata": {},
   "outputs": [],
   "source": [
    "plt.figure(figsize =(10 ,6))   \n",
    "\n",
    "plt.bar(top_brands.index,top_brands.values)    "
   ]
  },
  {
   "cell_type": "code",
   "execution_count": null,
   "id": "5f8b41d2",
   "metadata": {},
   "outputs": [],
   "source": [
    "plt.xlabel('Brand') "
   ]
  },
  {
   "cell_type": "code",
   "execution_count": null,
   "id": "5b701a1d",
   "metadata": {},
   "outputs": [],
   "source": [
    "plt.ylabel('count')  "
   ]
  },
  {
   "cell_type": "code",
   "execution_count": null,
   "id": "7169c1c3",
   "metadata": {},
   "outputs": [],
   "source": [
    "plt.title('Top Brands in Electronics Category')"
   ]
  },
  {
   "cell_type": "code",
   "execution_count": null,
   "id": "d78b2121",
   "metadata": {},
   "outputs": [],
   "source": [
    "plt.xticks(rotation=45)  "
   ]
  },
  {
   "cell_type": "code",
   "execution_count": null,
   "id": "64c6c7de",
   "metadata": {},
   "outputs": [],
   "source": [
    "plt.show()"
   ]
  }
 ],
 "metadata": {
  "kernelspec": {
   "display_name": "Python 3 (ipykernel)",
   "language": "python",
   "name": "python3"
  },
  "language_info": {
   "codemirror_mode": {
    "name": "ipython",
    "version": 3
   },
   "file_extension": ".py",
   "mimetype": "text/x-python",
   "name": "python",
   "nbconvert_exporter": "python",
   "pygments_lexer": "ipython3",
   "version": "3.9.13"
  }
 },
 "nbformat": 4,
 "nbformat_minor": 5
}
